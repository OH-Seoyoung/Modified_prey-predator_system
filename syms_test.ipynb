{
 "cells": [
  {
   "cell_type": "code",
   "execution_count": 3,
   "metadata": {},
   "outputs": [],
   "source": [
    "import sympy as sym"
   ]
  },
  {
   "cell_type": "code",
   "execution_count": null,
   "metadata": {},
   "outputs": [],
   "source": [
    "alpha = 1; beta = 0.01; \n",
    "delta = 0.02; gam = 1;\n",
    "eps = 0.1; lamda = 0.1;"
   ]
  },
  {
   "cell_type": "code",
   "execution_count": 5,
   "metadata": {},
   "outputs": [
    {
     "name": "stdout",
     "output_type": "stream",
     "text": [
      "0\n"
     ]
    }
   ],
   "source": [
    "alpha = sym.Symbol('alpha')\n",
    "beta = sym.Symbol('beta')\n",
    "delta = sym.Symbol('delta')\n",
    "gam = sym.Symbol('gam')\n",
    "eps = sym.Symbol('eps')\n",
    "lamda = sym.Symbol('lamda')\n",
    "\n",
    "x = (beta+(eps*gam))/(eps*(delta+(alpha*lamda)))\n",
    "y = ((alpha*lamda)+delta)/(lamda*(beta+(eps*gam)))\n",
    "\n",
    "a = sym.simplify(delta*x - gam + alpha*lamda*x - beta*lamda*x*y)\n",
    "print(a)"
   ]
  }
 ],
 "metadata": {
  "kernelspec": {
   "display_name": "Python 3",
   "language": "python",
   "name": "python3"
  },
  "language_info": {
   "codemirror_mode": {
    "name": "ipython",
    "version": 3
   },
   "file_extension": ".py",
   "mimetype": "text/x-python",
   "name": "python",
   "nbconvert_exporter": "python",
   "pygments_lexer": "ipython3",
   "version": "3.8.5"
  }
 },
 "nbformat": 4,
 "nbformat_minor": 4
}
