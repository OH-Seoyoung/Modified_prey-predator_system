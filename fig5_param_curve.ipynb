{
 "cells": [
  {
   "cell_type": "markdown",
   "metadata": {},
   "source": [
    "## Figure 5. Parameter space partition with different dynamics for $\\epsilon$ and $\\lambda$\n",
    "- (a) Phase space partition when $\\epsilon <0$ and $\\lambda >0$\n",
    "- (b) Full phase space partition, where the red, green and blue line respectively represents $A=0$, $A^2 -B =0$ and $B=0$.\n",
    "- parameters : $\\alpha = 0.1, \\beta = 0.01, \\delta = 0.02$ and $\\gamma = 0.1$       "
   ]
  },
  {
   "cell_type": "code",
   "execution_count": 1,
   "metadata": {},
   "outputs": [],
   "source": [
    "import numpy as np\n",
    "import pandas as pd\n",
    "import matplotlib.pyplot as plt\n",
    "from scipy import integrate\n",
    "from PIL import Image\n",
    "from matplotlib import cm \n",
    "from matplotlib.colors import ListedColormap,LinearSegmentedColormap\n",
    "from matplotlib.ticker import MaxNLocator"
   ]
  },
  {
   "cell_type": "code",
   "execution_count": 2,
   "metadata": {},
   "outputs": [],
   "source": [
    "plt.rcParams[\"figure.figsize\"] = (6,4.5)"
   ]
  },
  {
   "cell_type": "code",
   "execution_count": 3,
   "metadata": {},
   "outputs": [
    {
     "data": {
      "text/plain": [
       "{'divide': 'warn', 'over': 'warn', 'under': 'ignore', 'invalid': 'warn'}"
      ]
     },
     "execution_count": 3,
     "metadata": {},
     "output_type": "execute_result"
    }
   ],
   "source": [
    "np.seterr(divide='ignore', invalid='ignore') # avoiding invalid value encountered in true_divide"
   ]
  },
  {
   "cell_type": "code",
   "execution_count": 4,
   "metadata": {},
   "outputs": [],
   "source": [
    "# parameters\n",
    "alpha = 0.1; beta = 0.01; \n",
    "delta = 0.02; gam = 0.1;"
   ]
  },
  {
   "cell_type": "code",
   "execution_count": 5,
   "metadata": {},
   "outputs": [],
   "source": [
    "e = np.linspace(-5, 5, 1000)\n",
    "l = np.linspace(-5,5, 1000)\n",
    "\n",
    "eps, lamda = np.meshgrid(e,l)"
   ]
  },
  {
   "cell_type": "code",
   "execution_count": 6,
   "metadata": {},
   "outputs": [],
   "source": [
    "A = alpha*gam*(eps*delta - beta*lamda)\n",
    "B = (alpha**2)*(gam**2)*(eps*delta - beta*lamda)**2 - 4*alpha*gam*beta*delta*(beta*delta - alpha*eps*gam*lamda)"
   ]
  },
  {
   "cell_type": "code",
   "execution_count": 7,
   "metadata": {
    "scrolled": false
   },
   "outputs": [
    {
     "data": {
      "text/plain": [
       "(1000, 1000)"
      ]
     },
     "execution_count": 7,
     "metadata": {},
     "output_type": "execute_result"
    }
   ],
   "source": [
    "A.shape"
   ]
  },
  {
   "cell_type": "code",
   "execution_count": 8,
   "metadata": {},
   "outputs": [
    {
     "data": {
      "text/plain": [
       "0.019999999999999997"
      ]
     },
     "execution_count": 8,
     "metadata": {},
     "output_type": "execute_result"
    }
   ],
   "source": [
    "(beta*delta)/(alpha*gam)"
   ]
  },
  {
   "cell_type": "code",
   "execution_count": 9,
   "metadata": {},
   "outputs": [],
   "source": [
    "curA = (delta/beta)*e\n",
    "curB1 = -(delta/beta)*e + (2*delta/(np.sqrt(alpha*gam)))\n",
    "curB2 = -(delta/beta)*e - (2*delta/(np.sqrt(alpha*gam)))"
   ]
  },
  {
   "cell_type": "code",
   "execution_count": 10,
   "metadata": {
    "scrolled": true
   },
   "outputs": [],
   "source": [
    "cur1 = (beta*delta)/(alpha*gam*e[:-1])"
   ]
  },
  {
   "cell_type": "code",
   "execution_count": 11,
   "metadata": {
    "scrolled": true
   },
   "outputs": [],
   "source": [
    "cmap_modified = cm.get_cmap('gray')\n",
    "\n",
    "newcmp = ListedColormap(cmap_modified(np.linspace(1,0.8, 256)))"
   ]
  },
  {
   "cell_type": "code",
   "execution_count": 12,
   "metadata": {},
   "outputs": [
    {
     "data": {
      "image/png": "[encoded data removed]",
      "text/plain": [
       "<Figure size 432x324 with 1 Axes>"
      ]
     },
     "metadata": {
      "needs_background": "light"
     },
     "output_type": "display_data"
    }
   ],
   "source": [
    "fig,axes=plt.subplots(1,1)\n",
    "\n",
    "# plt.contour(eps, lamda, A, levels = 0, colors = 'red', linewidths=2.0)\n",
    "# plt.contour(eps, lamda, B, levels = 0, colors = 'blue', linewidths=2.0)\n",
    "# plt.contour(eps, lamda, A**2-B, levels = 0, colors = 'green', linewidths=2.0)\n",
    "\n",
    "\n",
    "plt.contourf(eps, lamda, B>=0, cmap = newcmp)\n",
    "\n",
    "\n",
    "plt.axhline(y=0, color='k', linewidth=1)\n",
    "plt.axvline(x=0, color='k', linewidth=1)\n",
    "\n",
    "plt.plot([4],[4], 'ko')\n",
    "plt.plot([-4],[0.1], 'ko')\n",
    "plt.plot([-0.1],[0.1], 'ko')\n",
    "\n",
    "plt.plot(e[:-1], cur1, color = 'green')\n",
    "plt.plot(e, curA, color = 'red')\n",
    "plt.plot(e, curB1, color = 'blue')\n",
    "plt.plot(e, curB2, color = 'blue')\n",
    "\n",
    "# plt.xlim([-5,0])  ## fig5 - (a)\n",
    "# plt.ylim([0,5])\n",
    "plt.xlim([-5,5])  ## fig5 - (b)\n",
    "plt.ylim([-5,5])\n",
    "\n",
    "# plt.text(-4, 2, r'$P_1$', fontsize = 14);\n",
    "# plt.text(-1.4, 2.5, r'$P_2$', fontsize = 14);\n",
    "# plt.text(-0.5, 3.8, r'$P_3$', fontsize = 14);\n",
    "\n",
    "axes.xaxis.set_major_locator(MaxNLocator(3)) \n",
    "axes.yaxis.set_major_locator(MaxNLocator(3)) \n",
    "\n",
    "plt.xlabel(r'$\\epsilon$', fontsize = 14)\n",
    "plt.ylabel(r'$\\lambda$',rotation=0, fontsize = 14)\n",
    "# plt.savefig('re_image/fig5-1.eps', format='eps')\n",
    "plt.show()"
   ]
  },
  {
   "cell_type": "code",
   "execution_count": 13,
   "metadata": {},
   "outputs": [
    {
     "name": "stdout",
     "output_type": "stream",
     "text": [
      "-9.000000000000003e-05 \n",
      " 3.3000000000000023e-09\n",
      "-3.2554373534619726e-05 \n",
      " -0.00014744562646538034\n"
     ]
    }
   ],
   "source": [
    "# sign test\n",
    "\n",
    "t_eps = -0.4; t_lamda = 0.1;\n",
    "\n",
    "t_A = alpha*gam*(t_eps*delta - beta*t_lamda)\n",
    "t_B = (alpha**2)*(gam**2)*(t_eps*delta - beta*t_lamda)**2 - 4*alpha*gam*beta*delta*(beta*delta - alpha*t_eps*gam*t_lamda)\n",
    "\n",
    "pm1 = t_A+np.sqrt(t_B)\n",
    "pm2 = t_A-np.sqrt(t_B)\n",
    "print(t_A, '\\n', t_B)\n",
    "print(pm1, '\\n', pm2)"
   ]
  }
 ],
 "metadata": {
  "kernelspec": {
   "display_name": "Python 3",
   "language": "python",
   "name": "python3"
  },
  "language_info": {
   "codemirror_mode": {
    "name": "ipython",
    "version": 3
   },
   "file_extension": ".py",
   "mimetype": "text/x-python",
   "name": "python",
   "nbconvert_exporter": "python",
   "pygments_lexer": "ipython3",
   "version": "3.8.5"
  }
 },
 "nbformat": 4,
 "nbformat_minor": 4
}
