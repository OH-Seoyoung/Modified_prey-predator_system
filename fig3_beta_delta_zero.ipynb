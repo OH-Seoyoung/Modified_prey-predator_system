{
 "cells": [
  {
   "cell_type": "markdown",
   "metadata": {},
   "source": [
    "## Level curves of the first integrals for $\\beta = \\delta = 0$, $\\epsilon <0$ and $\\lambda >0$\n",
    "- parameters : $\\alpha=\\gamma=0.1, \\epsilon=-0.01, \\lambda = 0.01$"
   ]
  },
  {
   "cell_type": "code",
   "execution_count": 69,
   "metadata": {},
   "outputs": [],
   "source": [
    "import numpy as np\n",
    "import pandas as pd\n",
    "import matplotlib.pyplot as plt\n",
    "from scipy import integrate\n",
    "from PIL import Image\n",
    "import math"
   ]
  },
  {
   "cell_type": "code",
   "execution_count": 70,
   "metadata": {},
   "outputs": [],
   "source": [
    "plt.rcParams[\"figure.figsize\"] = (6,4.5)"
   ]
  },
  {
   "cell_type": "code",
   "execution_count": 71,
   "metadata": {},
   "outputs": [
    {
     "data": {
      "text/plain": [
       "{'divide': 'ignore', 'over': 'warn', 'under': 'ignore', 'invalid': 'ignore'}"
      ]
     },
     "execution_count": 71,
     "metadata": {},
     "output_type": "execute_result"
    }
   ],
   "source": [
    "np.seterr(divide='ignore', invalid='ignore') # avoiding invalid value encountered in true_divide"
   ]
  },
  {
   "cell_type": "code",
   "execution_count": 72,
   "metadata": {},
   "outputs": [],
   "source": [
    "# Define the system of ODEs\n",
    "# x is prey, y is predator\n",
    "# beta = delta = 0 case\n",
    "\n",
    "def first_integral(x, y):\n",
    "#     # base params\n",
    "    alpha = 0.1; beta = 0; \n",
    "    delta = 0; gam = 0.1;\n",
    "    eps = -0.01; lamda = 0.01;\n",
    "    \n",
    "    # original model\n",
    "#     alpha = 0.1; beta = 0; \n",
    "#     delta = 0; gam = 0.1;\n",
    "#     eps = 0; lamda = 0;\n",
    "\n",
    "    return (alpha*np.log(y) - beta*y + eps*delta*x*y - eps*gam*y - (alpha*lamda +delta)*x + gam*np.log(x))"
   ]
  },
  {
   "cell_type": "code",
   "execution_count": 73,
   "metadata": {},
   "outputs": [
    {
     "name": "stdout",
     "output_type": "stream",
     "text": [
      "0.0\n"
     ]
    }
   ],
   "source": [
    "# check the condition\n",
    "alpha = 0.1; beta = 0; \n",
    "delta = 0; gam = 0.1;\n",
    "eps = -0.01; lamda = 0.01;\n",
    "\n",
    "# original model\n",
    "# alpha = 0.1; beta = 0; \n",
    "# delta = 0; gam = 0.1;\n",
    "# eps = 0; lamda = 0;\n",
    "\n",
    "print(beta*lamda - eps*delta)"
   ]
  },
  {
   "cell_type": "code",
   "execution_count": 74,
   "metadata": {},
   "outputs": [],
   "source": [
    "# p = np.linspace(0, 20, 100)\n",
    "# q = np.linspace(0, 20, 100)\n",
    "\n",
    "p = np.linspace(0, 30, 100)\n",
    "q = np.linspace(0, 30, 100)\n",
    "\n",
    "X1 , Y1 = np.meshgrid(p,q)"
   ]
  },
  {
   "cell_type": "code",
   "execution_count": 75,
   "metadata": {},
   "outputs": [],
   "source": [
    "z = first_integral(X1, Y1)"
   ]
  },
  {
   "cell_type": "code",
   "execution_count": 76,
   "metadata": {},
   "outputs": [
    {
     "data": {
      "image/png": "[encoded data removed]",
      "text/plain": [
       "<Figure size 432x324 with 1 Axes>"
      ]
     },
     "metadata": {
      "needs_background": "light"
     },
     "output_type": "display_data"
    }
   ],
   "source": [
    "contours = plt.contour(X1, Y1, z, levels = 6, cmap='rainbow')\n",
    "# plt.clabel(contours, inline=1, fontsize=10)\n",
    "plt.xlabel(\"Prey\", fontsize = 15)\n",
    "plt.ylabel(\"Predator\", fontsize = 15)\n",
    "plt.savefig('re_image/fig3-2.eps', format='eps')\n",
    "plt.show()"
   ]
  }
 ],
 "metadata": {
  "kernelspec": {
   "display_name": "Python 3",
   "language": "python",
   "name": "python3"
  },
  "language_info": {
   "codemirror_mode": {
    "name": "ipython",
    "version": 3
   },
   "file_extension": ".py",
   "mimetype": "text/x-python",
   "name": "python",
   "nbconvert_exporter": "python",
   "pygments_lexer": "ipython3",
   "version": "3.8.5"
  }
 },
 "nbformat": 4,
 "nbformat_minor": 4
}
